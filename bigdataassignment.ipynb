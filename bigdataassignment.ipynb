{
 "cells": [
  {
   "cell_type": "markdown",
   "metadata": {},
   "source": [
    "Problem 1\n"
   ]
  },
  {
   "cell_type": "code",
   "execution_count": 1,
   "metadata": {},
   "outputs": [
    {
     "name": "stdout",
     "output_type": "stream",
     "text": [
      "4\n",
      "8\n",
      "Jaccard Distance between A and B is 0.5\n",
      "4\n",
      "8\n",
      "Jaccard Distance between B and C is 0.5\n",
      "4\n",
      "8\n",
      "Jaccard Distance between A and C is 0.5\n"
     ]
    }
   ],
   "source": [
    "A=(1,1,0,1,1,0,1,1)\n",
    "B=(0,1,1,1,1,1,1,0)\n",
    "C=(1,0,1,1,0,1,1,1)\n",
    "\n",
    "def findintersection(x,y):\n",
    "    inter=0\n",
    "    for i in range(len(x)):\n",
    "        if(x[i]==y[i]==1):\n",
    "            inter=inter+1\n",
    "    return inter        \n",
    "def findunion(x,y):\n",
    "    union=0\n",
    "    for i in range(len(x)):\n",
    "        if(x[i]==1 or y[i]==1):\n",
    "            union=union+1\n",
    "    return union\n",
    "I=findintersection(A,B)\n",
    "U=findunion(A,B)\n",
    "print(I)\n",
    "print(U)\n",
    "jacind=I/U\n",
    "jacdist=1-jacind\n",
    "print(\"Jaccard Distance between A and B is \"+str(jacind))\n",
    "\n",
    "I1=findintersection(B,C)\n",
    "U1=findunion(B,C)\n",
    "print(I1)\n",
    "print(U1)\n",
    "jacind=I1/U1\n",
    "jacdist=1-jacind\n",
    "print(\"Jaccard Distance between B and C is \"+str(jacind))\n",
    "I2=findintersection(A,C)\n",
    "U2=findunion(A,C)\n",
    "print(I2)\n",
    "print(U2)\n",
    "jacind=I2/U2\n",
    "jacdist=1-jacind\n",
    "print(\"Jaccard Distance between A and C is \"+str(jacind))\n",
    "\n"
   ]
  },
  {
   "cell_type": "code",
   "execution_count": 3,
   "metadata": {},
   "outputs": [
    {
     "name": "stdout",
     "output_type": "stream",
     "text": [
      "Cosine Distance between A and B :0.6666666666666667\n",
      "Cosine Distance between B and C :0.6666666666666667\n",
      "Cosine Distance between A and C:0.6666666666666667\n"
     ]
    }
   ],
   "source": [
    "A=(1,1,0,1,1,0,1,1)\n",
    "B=(0,1,1,1,1,1,1,0)\n",
    "C=(1,0,1,1,0,1,1,1)\n",
    "import math\n",
    "def fun(x,y):\n",
    "    tmp=0;\t\n",
    "    for i in range(len(x)):\n",
    "        tmp=tmp+x[i]*y[i]\n",
    "    return tmp\n",
    "p=fun(A,B)\n",
    "q=math.sqrt(fun(A,A))* math.sqrt(fun(B,B))\n",
    "print(\"Cosine Distance between A and B :\"+str(p/q))\n",
    "p1=fun(B,C)\n",
    "q1=math.sqrt(fun(C,C))* math.sqrt(fun(B,B))\n",
    "print(\"Cosine Distance between B and C :\"+str(p1/q1))\n",
    "p2=fun(A,C)\n",
    "q2=math.sqrt(fun(A,A))* math.sqrt(fun(C,C))\n",
    "print(\"Cosine Distance between A and C:\"+str(p2/q2))\n"
   ]
  },
  {
   "cell_type": "code",
   "execution_count": 4,
   "metadata": {},
   "outputs": [
    {
     "name": "stdout",
     "output_type": "stream",
     "text": [
      "Jaccard Distance between A and B is 0.4\n",
      "Jaccard Distance between B and C is 0.16666666666666666\n",
      "Jaccard Distance between A and C is 0.3333333333333333\n"
     ]
    }
   ],
   "source": [
    "A=(1,1,0,1,0,0,1,0)\n",
    "B=(0,1,1,1,0,0,0,0)\n",
    "C=(0,0,0,1,0,1,1,1)\n",
    "def findintersection(x,y):\n",
    "    inter=0\n",
    "    for i in range(len(x)):\n",
    "        if(x[i]==y[i]==1):\n",
    "            inter=inter+1\n",
    "    return inter        \n",
    "def findunion(x,y):\n",
    "    union=0\n",
    "    for i in range(len(x)):\n",
    "        if(x[i]==1 or y[i]==1):\n",
    "            union=union+1\n",
    "    return union\n",
    "I=findintersection(A,B)\n",
    "U=findunion(A,B)\n",
    "jacind=I/U\n",
    "jacdist=1-jacind\n",
    "print(\"Jaccard Distance between A and B is \"+str(jacind))\n",
    "\n",
    "I1=findintersection(B,C)\n",
    "U1=findunion(B,C)\n",
    "jacind=I1/U1\n",
    "jacdist=1-jacind\n",
    "print(\"Jaccard Distance between B and C is \"+str(jacind))\n",
    "I2=findintersection(A,C)\n",
    "U2=findunion(A,C)\n",
    "jacind=I2/U2\n",
    "jacdist=1-jacind\n",
    "print(\"Jaccard Distance between A and C is \"+str(jacind))"
   ]
  },
  {
   "cell_type": "code",
   "execution_count": 5,
   "metadata": {},
   "outputs": [
    {
     "name": "stdout",
     "output_type": "stream",
     "text": [
      "Cosine Distance between A and B :0.5773502691896258\n",
      "Cosine Distance between B and C :0.2886751345948129\n",
      "Cosine Distance between A and C:0.5\n"
     ]
    }
   ],
   "source": [
    "import math\n",
    "A=(1,1,0,1,0,0,1,0)\n",
    "B=(0,1,1,1,0,0,0,0)\n",
    "C=(0,0,0,1,0,1,1,1)\n",
    "def fun(x,y):\n",
    "    tmp=0;\n",
    "    for i in range(len(x)):\n",
    "        tmp=tmp+x[i]*y[i]\n",
    "    return tmp\n",
    "p=fun(A,B)\n",
    "q=math.sqrt(fun(A,A))* math.sqrt(fun(B,B))\n",
    "print(\"Cosine Distance between A and B :\"+str(p/q))\n",
    "p1=fun(B,C)\n",
    "q1=math.sqrt(fun(C,C))* math.sqrt(fun(B,B))\n",
    "print(\"Cosine Distance between B and C :\"+str(p1/q1))\n",
    "p2=fun(A,C)\n",
    "q2=math.sqrt(fun(A,A))* math.sqrt(fun(C,C))\n",
    "print(\"Cosine Distance between A and C:\"+str(p2/q2))"
   ]
  },
  {
   "cell_type": "code",
   "execution_count": 6,
   "metadata": {},
   "outputs": [
    {
     "name": "stdout",
     "output_type": "stream",
     "text": [
      "[1.5, 2.5, 0, 2.5, -1.5, 0, 0.5, -0.5]\n",
      "[0, 1.25, 2.25, 1.25, -0.75, 0.25, -0.75, 0]\n",
      "[-0.25, 0, -1.25, 0.75, 0, 1.75, 2.75, 0.75]\n"
     ]
    }
   ],
   "source": [
    "A=[4,5,0,5,1,0,3,2]\n",
    "B=[0,3,4,3,1,2,1,0]\n",
    "C=[2,0,1,3,0,4,5,3]\n",
    "def findAvg(s1):\n",
    "    avg=0;\n",
    "    for i in range(len(s1)):\n",
    "        avg+=s1[i]\n",
    "    avg=avg/len(s1)\n",
    "    return avg\n",
    "def repList(s1):\n",
    "    l=list()\n",
    "    for i in s1:\n",
    "        if(i is not 0):\n",
    "            l.append(i-findAvg(s1))\n",
    "        else:\n",
    "            l.append(0)\n",
    "    return l\n",
    "\n",
    "A=repList(A)\n",
    "B=repList(B)\n",
    "C=repList(C)\n",
    "print(A)\n",
    "print(B)\n",
    "print(C)"
   ]
  },
  {
   "cell_type": "code",
   "execution_count": 7,
   "metadata": {},
   "outputs": [
    {
     "name": "stdout",
     "output_type": "stream",
     "text": [
      "Cosine Distance between A and B :0.5465040408511785\n",
      "Cosine Distance between B and C :-0.31256152042413066\n",
      "Cosine Distance between A and C:0.16340829138365012\n"
     ]
    }
   ],
   "source": [
    "import math\n",
    "A=(1.5, 2.5, 0, 2.5, -1.5, 0, 0.5, -0.5)\n",
    "B=(0, 1.25, 2.25, 1.25, -0.75, 0.25, -0.75, 0)\n",
    "C=(-0.25, 0, -1.25, 0.75, 0, 1.75, 2.75, 0.75)\n",
    "def fun(x,y):\n",
    "    tmp=0;\n",
    "    for i in range(len(x)):\n",
    "        tmp=tmp+x[i]*y[i]\n",
    "    return tmp\n",
    "p=fun(A,B)\n",
    "q=math.sqrt(fun(A,A))* math.sqrt(fun(B,B))\n",
    "print(\"Cosine Distance between A and B :\"+str(p/q))\n",
    "p1=fun(B,C)\n",
    "q1=math.sqrt(fun(C,C))* math.sqrt(fun(B,B))\n",
    "print(\"Cosine Distance between B and C :\"+str(p1/q1))\n",
    "p2=fun(A,C)\n",
    "q2=math.sqrt(fun(A,A))* math.sqrt(fun(C,C))\n",
    "print(\"Cosine Distance between A and C:\"+str(p2/q2))"
   ]
  },
  {
   "cell_type": "code",
   "execution_count": null,
   "metadata": {},
   "outputs": [],
   "source": []
  },
  {
   "cell_type": "code",
   "execution_count": 11,
   "metadata": {},
   "outputs": [
    {
     "data": {
      "text/html": [
       "<div>\n",
       "<style scoped>\n",
       "    .dataframe tbody tr th:only-of-type {\n",
       "        vertical-align: middle;\n",
       "    }\n",
       "\n",
       "    .dataframe tbody tr th {\n",
       "        vertical-align: top;\n",
       "    }\n",
       "\n",
       "    .dataframe thead th {\n",
       "        text-align: right;\n",
       "    }\n",
       "</style>\n",
       "<table border=\"1\" class=\"dataframe\">\n",
       "  <thead>\n",
       "    <tr style=\"text-align: right;\">\n",
       "      <th></th>\n",
       "      <th>UserID</th>\n",
       "      <th>ItemID</th>\n",
       "      <th>Rating</th>\n",
       "      <th>Timestamp</th>\n",
       "    </tr>\n",
       "  </thead>\n",
       "  <tbody>\n",
       "    <tr>\n",
       "      <th>12</th>\n",
       "      <td>200</td>\n",
       "      <td>222</td>\n",
       "      <td>5</td>\n",
       "      <td>876042340</td>\n",
       "    </tr>\n",
       "    <tr>\n",
       "      <th>189</th>\n",
       "      <td>200</td>\n",
       "      <td>673</td>\n",
       "      <td>5</td>\n",
       "      <td>884128554</td>\n",
       "    </tr>\n",
       "    <tr>\n",
       "      <th>243</th>\n",
       "      <td>200</td>\n",
       "      <td>318</td>\n",
       "      <td>5</td>\n",
       "      <td>884128458</td>\n",
       "    </tr>\n",
       "    <tr>\n",
       "      <th>326</th>\n",
       "      <td>200</td>\n",
       "      <td>304</td>\n",
       "      <td>5</td>\n",
       "      <td>876041644</td>\n",
       "    </tr>\n",
       "    <tr>\n",
       "      <th>367</th>\n",
       "      <td>200</td>\n",
       "      <td>96</td>\n",
       "      <td>5</td>\n",
       "      <td>884129409</td>\n",
       "    </tr>\n",
       "    <tr>\n",
       "      <th>503</th>\n",
       "      <td>200</td>\n",
       "      <td>365</td>\n",
       "      <td>5</td>\n",
       "      <td>884129962</td>\n",
       "    </tr>\n",
       "    <tr>\n",
       "      <th>692</th>\n",
       "      <td>200</td>\n",
       "      <td>11</td>\n",
       "      <td>5</td>\n",
       "      <td>884129542</td>\n",
       "    </tr>\n",
       "    <tr>\n",
       "      <th>1129</th>\n",
       "      <td>200</td>\n",
       "      <td>892</td>\n",
       "      <td>4</td>\n",
       "      <td>884127082</td>\n",
       "    </tr>\n",
       "    <tr>\n",
       "      <th>1285</th>\n",
       "      <td>200</td>\n",
       "      <td>588</td>\n",
       "      <td>5</td>\n",
       "      <td>884128499</td>\n",
       "    </tr>\n",
       "    <tr>\n",
       "      <th>1490</th>\n",
       "      <td>200</td>\n",
       "      <td>478</td>\n",
       "      <td>5</td>\n",
       "      <td>884128788</td>\n",
       "    </tr>\n",
       "  </tbody>\n",
       "</table>\n",
       "</div>"
      ],
      "text/plain": [
       "      UserID  ItemID  Rating  Timestamp\n",
       "12       200     222       5  876042340\n",
       "189      200     673       5  884128554\n",
       "243      200     318       5  884128458\n",
       "326      200     304       5  876041644\n",
       "367      200      96       5  884129409\n",
       "503      200     365       5  884129962\n",
       "692      200      11       5  884129542\n",
       "1129     200     892       4  884127082\n",
       "1285     200     588       5  884128499\n",
       "1490     200     478       5  884128788"
      ]
     },
     "execution_count": 11,
     "metadata": {},
     "output_type": "execute_result"
    }
   ],
   "source": [
    "import pandas as pd\n",
    "data=pd.read_csv('E:\\\\Bigdata\\\\assignment2\\\\assign.csv')\n",
    "item=pd.read_csv('E:\\\\Bigdata\\\\assignment2\\\\assign1.csv')\n",
    "choice=pd.DataFrame(item.loc[94,::])\n",
    "choice.head(n=10)\n",
    "item.index+=1\n",
    "item.head()\n",
    "movies_index=item.MovieID\n",
    "genres=item.columns\n",
    "genres=genres[5:]\n",
    "genre_values=item.values\n",
    "data_200=pd.DataFrame(data.loc[data['UserID']==200])\n",
    "user_200r=data_200.Rating\n",
    "user_200i=data_200.ItemID\n",
    "data_200.head(n=10)"
   ]
  },
  {
   "cell_type": "code",
   "execution_count": 12,
   "metadata": {},
   "outputs": [
    {
     "data": {
      "text/html": [
       "<div>\n",
       "<style scoped>\n",
       "    .dataframe tbody tr th:only-of-type {\n",
       "        vertical-align: middle;\n",
       "    }\n",
       "\n",
       "    .dataframe tbody tr th {\n",
       "        vertical-align: top;\n",
       "    }\n",
       "\n",
       "    .dataframe thead th {\n",
       "        text-align: right;\n",
       "    }\n",
       "</style>\n",
       "<table border=\"1\" class=\"dataframe\">\n",
       "  <thead>\n",
       "    <tr style=\"text-align: right;\">\n",
       "      <th></th>\n",
       "      <th>UserID</th>\n",
       "      <th>ItemID</th>\n",
       "      <th>Rating</th>\n",
       "      <th>Timestamp</th>\n",
       "    </tr>\n",
       "  </thead>\n",
       "  <tbody>\n",
       "    <tr>\n",
       "      <th>206</th>\n",
       "      <td>15</td>\n",
       "      <td>405</td>\n",
       "      <td>2</td>\n",
       "      <td>879455957</td>\n",
       "    </tr>\n",
       "    <tr>\n",
       "      <th>642</th>\n",
       "      <td>15</td>\n",
       "      <td>749</td>\n",
       "      <td>1</td>\n",
       "      <td>879455311</td>\n",
       "    </tr>\n",
       "    <tr>\n",
       "      <th>708</th>\n",
       "      <td>15</td>\n",
       "      <td>25</td>\n",
       "      <td>3</td>\n",
       "      <td>879456204</td>\n",
       "    </tr>\n",
       "    <tr>\n",
       "      <th>1208</th>\n",
       "      <td>15</td>\n",
       "      <td>331</td>\n",
       "      <td>3</td>\n",
       "      <td>879455166</td>\n",
       "    </tr>\n",
       "    <tr>\n",
       "      <th>1365</th>\n",
       "      <td>15</td>\n",
       "      <td>222</td>\n",
       "      <td>3</td>\n",
       "      <td>879455730</td>\n",
       "    </tr>\n",
       "    <tr>\n",
       "      <th>2207</th>\n",
       "      <td>15</td>\n",
       "      <td>473</td>\n",
       "      <td>1</td>\n",
       "      <td>879456204</td>\n",
       "    </tr>\n",
       "    <tr>\n",
       "      <th>2241</th>\n",
       "      <td>15</td>\n",
       "      <td>678</td>\n",
       "      <td>1</td>\n",
       "      <td>879455311</td>\n",
       "    </tr>\n",
       "    <tr>\n",
       "      <th>2461</th>\n",
       "      <td>15</td>\n",
       "      <td>932</td>\n",
       "      <td>1</td>\n",
       "      <td>879456465</td>\n",
       "    </tr>\n",
       "    <tr>\n",
       "      <th>2464</th>\n",
       "      <td>15</td>\n",
       "      <td>127</td>\n",
       "      <td>2</td>\n",
       "      <td>879455505</td>\n",
       "    </tr>\n",
       "    <tr>\n",
       "      <th>2649</th>\n",
       "      <td>15</td>\n",
       "      <td>685</td>\n",
       "      <td>4</td>\n",
       "      <td>879456288</td>\n",
       "    </tr>\n",
       "  </tbody>\n",
       "</table>\n",
       "</div>"
      ],
      "text/plain": [
       "      UserID  ItemID  Rating  Timestamp\n",
       "206       15     405       2  879455957\n",
       "642       15     749       1  879455311\n",
       "708       15      25       3  879456204\n",
       "1208      15     331       3  879455166\n",
       "1365      15     222       3  879455730\n",
       "2207      15     473       1  879456204\n",
       "2241      15     678       1  879455311\n",
       "2461      15     932       1  879456465\n",
       "2464      15     127       2  879455505\n",
       "2649      15     685       4  879456288"
      ]
     },
     "execution_count": 12,
     "metadata": {},
     "output_type": "execute_result"
    }
   ],
   "source": [
    "data_15=pd.DataFrame(data.loc[data['UserID']==15])\n",
    "user_15r=data_15.Rating\n",
    "user_15i=data_15.ItemID\n",
    "data_15.head(n=10)"
   ]
  },
  {
   "cell_type": "code",
   "execution_count": 13,
   "metadata": {},
   "outputs": [],
   "source": [
    "def findAvg(x):\n",
    "    avg=0;\n",
    "    for i in range(len(x)):\n",
    "        avg+=x[i]\n",
    "    avg=avg/len(x)\n",
    "    return avg\n",
    "\n",
    "def findRatings(x,y):\n",
    "    l=[0]*18\n",
    "    m=list(y)\n",
    "    ind=0\n",
    "    for i in x:\n",
    "        pos=0\n",
    "        j=m[ind]*genre_values[i]\n",
    "        j=j[5:]\n",
    "        for inde in j:\n",
    "            l[pos]+=inde\n",
    "            pos+=1\n",
    "        ind+=1\n",
    "    avg=findAvg(l)\n",
    "\n",
    "    for i in range(18):\n",
    "        l[i]/=avg\n",
    "        l[i]=round(l[i],2)\n",
    "    return l\n",
    "def findDot(s1,s2):\n",
    "    dot=0;\n",
    "    for i in range(len(s1)):\n",
    "        dot+=s1[i]*s2[i]\n",
    "    return dot\n"
   ]
  },
  {
   "cell_type": "code",
   "execution_count": 14,
   "metadata": {},
   "outputs": [
    {
     "name": "stdout",
     "output_type": "stream",
     "text": [
      "User 200's Ratings : [2.12, 1.28, 0.37, 0.77, 3.09, 0.54, 0.11, 3.01, 0.2, 0.11, 0.6, 0.48, 0.3, 1.18, 1.01, 1.57, 0.84, 0.41]\n",
      "User 15's Ratings  : [1.4, 0.82, 0.09, 0.91, 2.19, 1.01, 0.15, 4.45, 0.3, 0.24, 0.37, 0.18, 0.4, 1.58, 0.91, 2.1, 0.61, 0.27]\n",
      "The Cosine Distance between User200 and Movie Number 95 : The Aladdin  0.4146403090399625\n",
      "The Cosine Distance between User15 and Movie Number 95  : The Aladdin  0.27418788454906295\n"
     ]
    }
   ],
   "source": [
    "user_200r=data_200.Rating\n",
    "user_200i=data_200.ItemID\n",
    "user_15r=data_15.Rating\n",
    "user_15i=data_15.ItemID\n",
    "user_200sum=findRatings(user_200i,user_200r)\n",
    "user_15sum=findRatings(user_15i,user_15r)\n",
    "\n",
    "print(\"User 200's Ratings : \"+str(user_200sum))\n",
    "print(\"User 15's Ratings  : \"+str(user_15sum))\n",
    "goal_movie=genre_values[94]\n",
    "goal_movie=goal_movie[5:]\n",
    "\n",
    "\n",
    "\n",
    "num=findDot(user_200sum,goal_movie)\n",
    "den=math.sqrt(findDot(user_200sum,user_200sum))* math.sqrt(findDot(goal_movie,goal_movie))\n",
    "print(\"The Cosine Distance between User200 and Movie Number 95 : The Aladdin  \"+str(num/den))\n",
    "\n",
    "num=findDot(user_15sum,goal_movie)\n",
    "den=math.sqrt(findDot(user_15sum,user_15sum))* math.sqrt(findDot(goal_movie,goal_movie))\n",
    "print(\"The Cosine Distance between User15 and Movie Number 95  : The Aladdin  \"+str(num/den))"
   ]
  },
  {
   "cell_type": "code",
   "execution_count": 15,
   "metadata": {},
   "outputs": [
    {
     "name": "stdout",
     "output_type": "stream",
     "text": [
      "568    568\n",
      "Name: MovieID, dtype: int64\n"
     ]
    }
   ],
   "source": [
    "speed=(item.loc[item['Movie Title']=='Speed (1994)'])\n",
    "print(speed.MovieID)"
   ]
  },
  {
   "cell_type": "code",
   "execution_count": 17,
   "metadata": {},
   "outputs": [
    {
     "name": "stdout",
     "output_type": "stream",
     "text": [
      "Users younger than 20 : 21\n",
      " 20-30 : 88\n",
      " 30-40 : 55\n",
      " 40-50 : 26\n",
      "50-60 : 9\n",
      "60 and above : 2\n"
     ]
    }
   ],
   "source": [
    "users_speed=pd.DataFrame(data.loc[data['ItemID']==568])\n",
    "vals=users_speed.values\n",
    "valid=list()\n",
    "for i in vals:\n",
    "    if(i[2]>=3):\n",
    "        valid.append(i[0])\n",
    "\n",
    "users_age=pd.read_csv('E:\\\\Bigdata\\\\assignment2\\\\ass2.csv')\n",
    "users_age.index+=1\n",
    "all_ages=users_age.Age\n",
    "age=list()\n",
    "for i in valid:\n",
    "    age.append(all_ages[i])\n",
    "#print(age)\n",
    "age15=[]\n",
    "age20=[]\n",
    "age30=[]\n",
    "age40=[]\n",
    "age50=[]\n",
    "age60=[]\n",
    "\n",
    "for i in age:\n",
    "    if(i<20):\n",
    "        age15.append(i)\n",
    "    if(i>=20 and i<30):\n",
    "        age20.append(i)\n",
    "    if(i>=30 and i<40):\n",
    "        age30.append(i)\n",
    "    if(i>=40 and i<50):\n",
    "        age40.append(i)\n",
    "    if(i>=50 and i<60):\n",
    "        age50.append(i)\n",
    "    if(i>=60 and i<70):\n",
    "        age60.append(i)\n",
    "\n",
    "print(\"Users younger than 20 : \"+str(len(age15)))\n",
    "print(\" 20-30 : \"+str(len(age20)))\n",
    "print(\" 30-40 : \"+str(len(age30)))\n",
    "print(\" 40-50 : \"+str(len(age40)))\n",
    "print(\"50-60 : \"+str(len(age50)))\n",
    "print(\"60 and above : \"+str(len(age60)))"
   ]
  },
  {
   "cell_type": "code",
   "execution_count": 18,
   "metadata": {},
   "outputs": [
    {
     "name": "stdout",
     "output_type": "stream",
     "text": [
      "[0.33, 0.58, 0.0, 0.0, 0.29, 0.0, 0.0, 0.82, 0.0, 0.29, 0.82, 0.41, 0.0, 0.0, 0.0, 0.0, 0.41, 0.33, 0.0, 0.0, 0.58, 0.33, 0.0, 0.0, 0.41, 0.41, 0.41, 0.0, 0.0, 0.0, 0.33, 0.0, 0.0, 0.0, 0.82, 0.41, 0.0, 0.0, 0.0, 0.0, 0.41, 0.0, 0.41, 0.0, 0.0, 0.41, 0.33, 0.0, 0.0, 0.58, 0.0, 0.0, 0.82, 0.33, 0.82, 0.82, 0.58, 0.0, 0.0, 0.52, 0.41, 0.41, 0.41, 0.41, 0.41, 0.0, 0.0, 0.0, 0.58, 0.29, 0.33, 0.58, 0.82, 0.0, 0.0, 0.0, 0.82, 0.0, 0.33, 0.41, 0.82, 0.33, 0.0, 0.0, 0.0, 0.0, 0.29, 0.0, 0.0, 0.41, 0.67, 0.0, 0.0, 0.0, 0.0, 0.29, 0.0, 0.41, 0.0, 0.0, 0.0, 0.0, 0.41, 0.41, 0.0, 0.41, 0.29, 0.41, 0.67, 0.33, 0.67, 0.0, 0.52, 0.29, 0.0, 0.0, 0.67, 0.58, 0.0, 0.0, 0.0, 0.0, 0.0, 0.41, 0.67, 0.82, 0.0, 0.0, 0.0, 0.0, 0.33, 0.0, 0.41, 0.0, 0.67, 0.58, 0.29, 0.0, 0.52, 0.29, 0.33, 0.33, 0.82, 0.41, 0.41, 0.29, 0.0, 0.67, 0.29, 0.0, 0.41, 0.0, 0.0, 0.41, 0.0, 0.0, 0.58, 0.0, 0.0, 0.41, 0.41, 0.0, 0.33, 0.0, 0.0, 0.0, 0.0, 0.0, 0.0, 0.67, 0.0, 0.0, 0.0, 0.0, 0.33, 0.0, 0.33, 0.33, 0.0, 0.0, 0.82, 0.82, 0.67, 0.0, 0.0, 0.33, 0.58, 0.41, 0.0, 0.29, 0.0, 0.58, 0.41, 0.0, 0.0, 0.0, 0.58, 0.29, 0.0, 0.58, 0.33, 0.33, 0.41, 0.0, 0.58, 0.33, 0.0, 0.33, 0.41, 0.29, 0.0, 0.0, 0.41, 0.82, 0.41, 0.0, 0.41, 0.41, 0.0, 0.58, 0.0, 0.82, 0.41, 0.41, 0.58, 0.0, 0.67, 0.82, 0.33, 0.41, 0.29, 0.0, 0.0, 0.0, 0.0, 0.0, 0.0, 0.41, 0.0, 0.0, 0.41, 0.29, 0.0, 0.41, 0.29, 0.41, 0.0, 0.41, 0.0, 0.52, 0.0, 0.0, 0.29, 0.0, 0.0, 0.0, 0.0, 0.41, 0.41, 0.0, 0.0, 0.41, 0.82, 0.33, 0.0, 0.41, 0.0, 0.58, 0.29, 0.0, 0.58, 0.0, 0.0, 0.0, 0.0, 0.0, 0.0, 0.0, 0.67, 0.0, 0.67, 0.0, 0.0, 0.58, 0.0, 0.0, 0.67, 0.82, 0.0, 0.41, 0.41, 0.0, 0.0, 0.0, 0.41, 0.0, 0.41, 0.0, 0.67, 0.0, 0.41, 0.0, 0.0, 0.41, 0.0, 0.67, 0.29, 0.41, 0.0, 0.41, 0.41, 0.33, 0.0, 0.52, 0.0, 0.0, 0.41, 0.41, 0.33, 0.82, 0.0, 0.0, 0.33, 0.58, 0.0, 0.0, 0.0, 0.67, 0.0, 0.0, 0.0, 0.0]\n"
     ]
    }
   ],
   "source": [
    "goal_id=[]\n",
    "j=0\n",
    "for i in all_ages:\n",
    "    j+=1\n",
    "    if(i>=20 and i<30):\n",
    "        goal_id.append(j)\n",
    "#print(goal_id)\n",
    "movie_id=[]\n",
    "items=data.values\n",
    "for i in goal_id:\n",
    "    j=items[i]\n",
    "    movie_id.append(j[0])\n",
    "\n",
    "    smovie=genre_values[567]\n",
    "smovie=smovie[5:]\n",
    "cos_vals=[]\n",
    "for i in movie_id:\n",
    "    j=genre_values[i]\n",
    "    j=j[5:]\n",
    "    num=findDot(smovie,j)\n",
    "    den=math.sqrt(findDot(j,j))* math.sqrt(findDot(smovie,smovie))\n",
    "    cos_vals.append(round((num/den),2))\n",
    "print(cos_vals)"
   ]
  },
  {
   "cell_type": "code",
   "execution_count": 19,
   "metadata": {},
   "outputs": [
    {
     "name": "stdout",
     "output_type": "stream",
     "text": [
      "Steel (1997)\n",
      "Scream (1996)\n",
      "Paradise Lost: The Child Murders at Robin Hood Hills (1996)\n"
     ]
    }
   ],
   "source": [
    "res = sorted(range(len(cos_vals)), key = lambda sub: cos_vals[sub])[-3:]\n",
    "moviet=item.values\n",
    "for i in res:\n",
    "    j=moviet[i]\n",
    "    print(j[1])"
   ]
  },
  {
   "cell_type": "code",
   "execution_count": null,
   "metadata": {},
   "outputs": [],
   "source": []
  }
 ],
 "metadata": {
  "kernelspec": {
   "display_name": "Python 3",
   "language": "python",
   "name": "python3"
  },
  "language_info": {
   "codemirror_mode": {
    "name": "ipython",
    "version": 3
   },
   "file_extension": ".py",
   "mimetype": "text/x-python",
   "name": "python",
   "nbconvert_exporter": "python",
   "pygments_lexer": "ipython3",
   "version": "3.7.1"
  }
 },
 "nbformat": 4,
 "nbformat_minor": 2
}
